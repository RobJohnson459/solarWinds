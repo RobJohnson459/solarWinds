{
 "cells": [
  {
   "cell_type": "code",
   "execution_count": 19,
   "metadata": {},
   "outputs": [
    {
     "name": "stdout",
     "output_type": "stream",
     "text": [
      "No files to update.\n"
     ]
    }
   ],
   "source": [
    "try: import pyomnidata\n",
    "except: \n",
    "    !pip install pyomnidata\n",
    "    import pyomnidata\n",
    "pyomnidata.UpdateLocalData()\n",
    "\n",
    "try: import torch\n",
    "except: \n",
    "    !pip install torch\n",
    "    import torch\n",
    "\n",
    "import numpy as np\n",
    "from numpy.lib import recfunctions as rfn\n",
    "from skorch import NeuralNetClassifier\n",
    "from sklearn.model_selection import GridSearchCV\n",
    "import matplotlib.pyplot as plt\n",
    "\n",
    "import warnings\n",
    "warnings.filterwarnings(\"error\")\n"
   ]
  },
  {
   "cell_type": "code",
   "execution_count": 67,
   "metadata": {},
   "outputs": [],
   "source": [
    "# Data parameters\n",
    "years = [2009, 2019] # The range of solar cycle 24, cited from Wikipedia.org/Solar_cycle_24\n",
    "# define what inputs we want to consider for our model - names listed in following cell\n",
    "inputs = [12, 20, 24, 25, 26, 27, 47]\n",
    "target = 20 # entry for the regression target\n",
    "forecastOffset = 12 # integer number of hours between the final input datapoint and the forcasted value\n",
    "inputHours = 24 # integer number of hours of data in the input space\n",
    "datapointOffset = 36 # integer number of hours between the starts of two datapoints - forecastOffset + inputHours gives no overlap in datapoints.\n",
    "\n",
    "# ML parameters\n",
    "batchSize = 128\n",
    "epochs = 2000"
   ]
  },
  {
   "cell_type": "code",
   "execution_count": null,
   "metadata": {},
   "outputs": [],
   "source": []
  },
  {
   "cell_type": "code",
   "execution_count": 3,
   "metadata": {},
   "outputs": [
    {
     "name": "stdout",
     "output_type": "stream",
     "text": [
      "int access, field title, dtype, example value, end example value\n",
      "0 Date int32 20090101 20191231\n",
      "1 ut float32 0.0 23.916666\n",
      "2 utc float64 517200.0 613607.9166660309\n",
      "3 SC_IMF uint8 71 51\n",
      "4 SC_Plasma uint8 71 51\n",
      "5 N_IMF int32 5 5\n",
      "6 N_Plasma int32 5 5\n",
      "7 PercInterp float32 100.0 2.0\n",
      "8 TimeShift float32 3108.0 7511.0\n",
      "9 RMSTimeShift float32 25.0 367.0\n",
      "10 RMSPhaseFrontNorm float32 nan nan\n",
      "11 dTime float32 52.0 -38.0\n",
      "12 B float32 4.78 4.68\n",
      "13 BxGSE float32 -4.4 -3.19\n",
      "14 ByGSE float32 1.41 2.98\n",
      "15 BzGSE float32 -0.93 -1.37\n",
      "16 ByGSM float32 1.61 3.22\n",
      "17 BzGSM float32 -0.52 -0.59\n",
      "18 RMSSDBScalar float32 0.03 0.18\n",
      "19 RMSSDFieldVector float32 0.48 0.41\n",
      "20 FlowSpeed float32 508.7 296.3\n",
      "21 Vx float32 -508.1 -296.2\n",
      "22 Vy float32 6.6 3.6\n",
      "23 Vz float32 -23.6 1.8\n",
      "24 ProtonDensity float32 2.76 5.24\n",
      "25 Temp float32 207123.0 26135.0\n",
      "26 FlowPressure float32 1.43 0.92\n",
      "27 E float32 0.26 0.17\n",
      "28 Beta float32 1.69 1.56\n",
      "29 MA float32 8.8 7.3\n",
      "30 Xsc float32 218.04 217.59\n",
      "31 Ysc float32 10.18 101.5\n",
      "32 Zsc float32 22.95 -5.09\n",
      "33 Xbsn float32 13.81 14.75\n",
      "34 Ybsn float32 -1.04 -1.65\n",
      "35 Zbsn float32 0.64 -0.11\n",
      "36 AE float32 65.0 nan\n",
      "37 AL float32 -47.0 nan\n",
      "38 AU float32 19.0 nan\n",
      "39 SymD float32 0.0 -1.0\n",
      "40 SymH float32 -12.0 -7.0\n",
      "41 AsyD float32 14.0 13.0\n",
      "42 AsyH float32 12.0 17.0\n",
      "43 PC float32 1.14 0.18\n",
      "44 Ms float32 5.6 4.7\n",
      "45 Pflux10 float32 0.17 0.29\n",
      "46 Pflux30 float32 0.11 0.2\n",
      "47 Pflux60 float32 0.09 0.14\n",
      "(1156896,)\n"
     ]
    }
   ],
   "source": [
    "omnidata = pyomnidata.GetOMNI(years)\n",
    "names = rfn.get_names(omnidata.dtype)\n",
    "print(\"int access, field title, dtype, example value, end example value\")\n",
    "for i in range(48):\n",
    "    print(i, names[i], omnidata.dtype[i], omnidata[0][i], omnidata[-1][i])\n",
    "print(omnidata.shape)"
   ]
  },
  {
   "cell_type": "code",
   "execution_count": null,
   "metadata": {},
   "outputs": [],
   "source": []
  },
  {
   "cell_type": "code",
   "execution_count": 4,
   "metadata": {},
   "outputs": [],
   "source": [
    "numHours = int(omnidata[-1][2]) - int(omnidata[0][2]) # data[i][2] is UTC. This operation lets us get how many days are in our datatset.\n",
    "history = torch.zeros(numHours, len(inputs)) # We want each hour as a datapoint, with an average of the points inside\n",
    "hour = 0\n",
    "dataIterator = 0\n",
    "targets = []\n",
    "lastBad = 0\n",
    "badDict = {}\n",
    "isNaN = []\n",
    "\n",
    "for i in range(numHours):\n",
    "    hourList = [] # define a list to hold the data before averaging\n",
    "    trgList = []\n",
    "    while int(omnidata[dataIterator][1]) == hour and dataIterator < len(omnidata): # get all the data in this hour\n",
    "        inputList = []\n",
    "        for j in inputs: # I couldn't figure out how to access multiple entries at the same time, so I appended them in a list\n",
    "            inputList.append(omnidata[dataIterator][j]) # and put that list as an element of hourList\n",
    "        hourList.append(inputList) # put the desired data in the holding list\n",
    "        trgList.append(omnidata[dataIterator][target])\n",
    "        dataIterator += 1 # move to the next 5 minute increment\n",
    "#     if dataIterator >= len(omnidata)-1:\n",
    "#         break    \n",
    "    try:\n",
    "        hourInfo = np.nanmean(hourList, axis=0)\n",
    "        targets.append(np.nanmean(trgList))\n",
    "        for j in range(len(inputs)):\n",
    "            history[i,j] = float(hourInfo[j]) # assign our new averaged data to a history tensor. Probably should figure out why 'float' is necessary, but that's a problem for future rob.    \n",
    "        isNaN.append(False)\n",
    "    except RuntimeWarning:\n",
    "        history[i,:] = float('NaN')\n",
    "        targets.append(float('nan'))\n",
    "        key = i-lastBad\n",
    "        if key not in badDict:\n",
    "            badDict[key] = 1\n",
    "        else:\n",
    "            badDict[key] += 1\n",
    "#         print(key, \":\", omnidata[dataIterator-1][0], \":\", omnidata[dataIterator-1][1])\n",
    "        lastBad = i\n",
    "        isNaN.append(True)\n",
    "    hour = (hour+1)%24 # move to the next hour, resetting if we go over a day"
   ]
  },
  {
   "cell_type": "code",
   "execution_count": 5,
   "metadata": {},
   "outputs": [
    {
     "name": "stdout",
     "output_type": "stream",
     "text": [
      "91986 4337 1981 58731\n"
     ]
    }
   ],
   "source": [
    "tot=0\n",
    "nans=0\n",
    "nonovdp = 0\n",
    "ovdp = 0\n",
    "for key, value in sorted(badDict.items()):\n",
    "#     print(key, \":\", value)\n",
    "    nonovdp += int(key/(forecastOffset + inputHours)) * value\n",
    "    nans += value\n",
    "    tot += (key-1)*value\n",
    "    ovdp += max(key-(forecastOffset + inputHours), 0) * value\n",
    "print(tot, nans, nonovdp, ovdp)"
   ]
  },
  {
   "cell_type": "code",
   "execution_count": 6,
   "metadata": {},
   "outputs": [
    {
     "name": "stdout",
     "output_type": "stream",
     "text": [
      "torch.Size([96407, 7])\n",
      "tensor([[ 4.4792e+00,  5.0922e+02,  2.6492e+00,  ...,  1.3733e+00,\n",
      "         -1.7083e-01,  6.9167e-02],\n",
      "        [ 4.0867e+00,  5.1497e+02,  2.6492e+00,  ...,  1.4075e+00,\n",
      "          5.4000e-01,  1.0917e-01],\n",
      "        [ 4.6550e+00,  5.1642e+02,  2.2917e+00,  ...,  1.2267e+00,\n",
      "          2.0333e-01,  7.2500e-02],\n",
      "        ...,\n",
      "        [ 4.0200e+00,  3.0878e+02,  1.0598e+01,  ...,  2.0233e+00,\n",
      "          1.0922e+00,  1.2250e-01],\n",
      "        [ 3.8300e+00,  3.0956e+02,  1.0053e+01,  ...,  1.9275e+00,\n",
      "          9.9250e-01,  1.3667e-01],\n",
      "        [ 2.7700e+00,  3.0769e+02,  9.6492e+00,  ...,  1.8308e+00,\n",
      "          5.7250e-01,  1.3417e-01]])\n"
     ]
    }
   ],
   "source": [
    "print(history.shape)\n",
    "print(history)"
   ]
  },
  {
   "cell_type": "code",
   "execution_count": 7,
   "metadata": {},
   "outputs": [],
   "source": [
    "windowLength = forecastOffset + inputHours\n",
    "isValidStart =  []\n",
    "# Check for any NANs - those screw with the neural nets.\n",
    "for i in range(len(isNaN) - windowLength):\n",
    "    isValidStart.append(not any(isNaN[i:i+windowLength]) and not np.isnan(targets[i+windowLength]))\n",
    "    \n",
    "# make sure there is an offset between valid data start points\n",
    "for i in range(len(isValidStart)):\n",
    "    prev = min(i, datapointOffset) # this line prevents us checking outside the bounds of our array\n",
    "    if any(isValidStart[i-prev:i]): # check back far enough to know if this point is in the offset for another point\n",
    "        isValidStart[i] = False\n",
    "# in hindsight I could have done this in the previous for loop, but too late now.\n",
    "starts = []\n",
    "for i in range(len(isValidStart)):\n",
    "    if isValidStart[i]:\n",
    "        starts.append(i)"
   ]
  },
  {
   "cell_type": "code",
   "execution_count": 8,
   "metadata": {},
   "outputs": [],
   "source": [
    "# The dataset we want to regress on has as many days as possible, with no overlap.\n",
    "data = torch.zeros(len(starts), inputHours, len(inputs)) \n",
    "y = []\n",
    "for i in range(len(starts)):\n",
    "    data[i,:,:] = history[starts[i]:starts[i] + inputHours, :]\n",
    "    y.append(targets[starts[i] + windowLength])"
   ]
  },
  {
   "cell_type": "code",
   "execution_count": 9,
   "metadata": {},
   "outputs": [
    {
     "name": "stdout",
     "output_type": "stream",
     "text": [
      "96407\n",
      "96407\n",
      "96407\n",
      "4337\n",
      "1886\n",
      "torch.Size([1886, 24, 7])\n",
      "1886\n"
     ]
    }
   ],
   "source": [
    "print(len(targets))\n",
    "print(len(history))\n",
    "print(len(isNaN))\n",
    "print(np.sum(isNaN))\n",
    "print(np.sum(isValidStart))\n",
    "print(data.shape)\n",
    "print(len(y))"
   ]
  },
  {
   "cell_type": "code",
   "execution_count": 39,
   "metadata": {},
   "outputs": [],
   "source": [
    "def newSizer(orig, size, stride, pad):\n",
    "    '''\n",
    "    This is a function that calculates the size of one side of an output from an convolutional or pooling layer.\n",
    "    All the arguments should be integers. \n",
    "    '''\n",
    "    if stride == None: stride = size\n",
    "    return int((orig + 2*pad - size)/stride + 1)\n",
    "\n",
    "\n",
    "class cnnNet(torch.nn.Module):\n",
    "    def __init__(self, kernel1width=4, kernel1channels=5, mpool = 2, kernel2width=5, kernel2channels=3, apool=3, dense=128):\n",
    "        super(cnnNet, self).__init__()\n",
    "        # note: tuples in the 'size' argument in torch allow for non-square kernels, which are necessary for time based CNNs.\n",
    "        self.conv1 = torch.nn.Conv2d(1,kernel1channels, (kernel1width, 1))\n",
    "        n = newSizer(inputHours, kernel1width, 1, 0)\n",
    "        self.mp = torch.nn.MaxPool2d((mpool, 1)) \n",
    "        n = newSizer(n, mpool, mpool, 0)\n",
    "        self.conv2 = torch.nn.Conv2d(kernel1channels, kernel2channels, (kernel2width, len(inputs)))\n",
    "        n = newSizer(n, kernel2width, 1, 0)\n",
    "        self.avp = torch.nn.AvgPool2d((apool, 1))\n",
    "        self.vectorSize = kernel2channels * newSizer(n, apool, apool, 0)\n",
    "        self.relu = torch.nn.ReLU()\n",
    "        \n",
    "        self.fc1 = torch.nn.Linear(self.vectorSize, dense)\n",
    "        self.fc2 = torch.nn.Linear(dense, 1)\n",
    "        \n",
    "    def forward(self, x):\n",
    "        x = x.reshape(-1,1, inputHours, len(inputs))\n",
    "        x = self.relu(self.mp(self.conv1(x)))\n",
    "        x = self.relu(self.avp(self.conv2(x)))\n",
    "        x = self.fc2(self.relu(self.fc1(x.reshape((-1,1,self.vectorSize)))))\n",
    "        return x.reshape(-1)\n"
   ]
  },
  {
   "cell_type": "code",
   "execution_count": 52,
   "metadata": {},
   "outputs": [],
   "source": [
    "def percentError(yhat, target):\n",
    "    retval = []\n",
    "    for i in range(len(target)):\n",
    "        retval.append(abs(target[i]-yhat[i].item())/target[i])\n",
    "    return retval"
   ]
  },
  {
   "cell_type": "code",
   "execution_count": 62,
   "metadata": {},
   "outputs": [],
   "source": [
    "def dictToList(grid):\n",
    "    entries = 1\n",
    "    for _, value in grid.items():\n",
    "        entries *= max(len(value), 1)\n",
    "    retval = [{} for _ in range(entries)]\n",
    "\n",
    "    rotationFactor = 1\n",
    "    for key, value in grid.items():\n",
    "        for i in range(entries):\n",
    "            retval[i][key] = value[int(i/rotationFactor) % len(value)]\n",
    "        rotationFactor *= len(value)\n",
    "    return retval\n",
    "    \n",
    "def gridCV(grid, module, x, targets, epochs):\n",
    "    arglist = dictToList(grid)\n",
    "    "
   ]
  },
  {
   "cell_type": "code",
   "execution_count": 68,
   "metadata": {},
   "outputs": [
    {
     "name": "stdout",
     "output_type": "stream",
     "text": [
      "The training loss for epoch  250/2000 was 11112.3701171875\n",
      "The validation loss for epoch 250/2000 was 15974.193359375\n",
      "The training loss for epoch  500/2000 was 4593.87158203125\n",
      "The validation loss for epoch 500/2000 was 7489.59521484375\n",
      "The training loss for epoch  750/2000 was 3757.6962890625\n",
      "The validation loss for epoch 750/2000 was 5579.9453125\n",
      "The training loss for epoch  1000/2000 was 3204.96484375\n",
      "The validation loss for epoch 1000/2000 was 4911.6943359375\n",
      "The training loss for epoch  1250/2000 was 2920.083984375\n",
      "The validation loss for epoch 1250/2000 was 4436.1376953125\n",
      "The training loss for epoch  1500/2000 was 2710.5146484375\n",
      "The validation loss for epoch 1500/2000 was 4187.3388671875\n",
      "The training loss for epoch  1750/2000 was 2580.331298828125\n",
      "The validation loss for epoch 1750/2000 was 4035.10205078125\n",
      "The training loss for epoch  2000/2000 was 2477.9951171875\n",
      "The validation loss for epoch 2000/2000 was 4043.524169921875\n"
     ]
    },
    {
     "data": {
      "image/png": "[encoded data removed]",
      "text/plain": [
       "<Figure size 432x288 with 1 Axes>"
      ]
     },
     "metadata": {
      "needs_background": "light"
     },
     "output_type": "display_data"
    },
    {
     "data": {
      "image/png": "[encoded data removed]",
      "text/plain": [
       "<Figure size 432x288 with 1 Axes>"
      ]
     },
     "metadata": {
      "needs_background": "light"
     },
     "output_type": "display_data"
    }
   ],
   "source": [
    "numPoints = data.shape[0]\n",
    "ziplist = list(zip(data, y))\n",
    "trainset, valset, testset = torch.utils.data.random_split(ziplist, [int(numPoints*0.6)+2, int(numPoints*0.3), int(numPoints*0.1)])\n",
    "\n",
    "trainloader = torch.utils.data.DataLoader(trainset, batch_size = batchSize)\n",
    "valloader = torch.utils.data.DataLoader(valset, batch_size = batchSize)\n",
    "testloader = torch.utils.data.DataLoader(testset, batch_size = batchSize)\n",
    "\n",
    "model = cnnNet() #trying with just the default arguments\n",
    "opt = torch.optim.Adam(model.parameters(), lr=0.0001)\n",
    "lfc = torch.nn.MSELoss()\n",
    "\n",
    "trainLoss = []\n",
    "valLoss = []\n",
    "trainPCE = []\n",
    "valPCE = []\n",
    "\n",
    "verboseEpochs = 250\n",
    "\n",
    "for epoch in range(epochs):\n",
    "    if not (epoch+1) % verboseEpochs: verbose = True\n",
    "    else: verbose = False\n",
    "    model.train()\n",
    "    batch_loss = []\n",
    "    batch_PCE = []\n",
    "    for (xtrain, ytrain) in trainloader:\n",
    "        opt.zero_grad()\n",
    "        output = model(xtrain)\n",
    "        loss = lfc(output, ytrain)\n",
    "        loss.backward()\n",
    "        opt.step()\n",
    "        batch_loss.append(loss)\n",
    "        for pce in percentError(output, ytrain): batch_PCE.append(pce)\n",
    "    if verbose: print(f'The training loss for epoch  {epoch+1}/{epochs} was {torch.mean(torch.Tensor(batch_loss))}')\n",
    "    trainLoss.append(torch.mean(torch.Tensor(batch_loss)))\n",
    "    trainPCE.append(np.mean(batch_PCE))\n",
    "    \n",
    "    batch_loss = []\n",
    "    batch_PCE = []\n",
    "    model.eval()\n",
    "    for (xval, yval) in valloader:\n",
    "        output = model(xval)\n",
    "        loss = lfc(output, yval)\n",
    "        batch_loss.append(loss)\n",
    "        for pce in percentError(output, yval): batch_PCE.append(pce)\n",
    "    if verbose: print(f'The validation loss for epoch {epoch+1}/{epochs} was {torch.mean(torch.Tensor(batch_loss))}')\n",
    "    valLoss.append(torch.mean(torch.Tensor(batch_loss)))\n",
    "    valPCE.append(np.mean(batch_PCE))\n",
    "plt.plot(trainLoss[int(epochs * .2):])\n",
    "plt.plot(valLoss[int(epochs * .2):])\n",
    "plt.show()\n",
    "plt.plot(trainPCE[int(epochs * .2):])\n",
    "plt.plot(valPCE[int(epochs * .2):])\n",
    "plt.show()"
   ]
  }
 ],
 "metadata": {
  "kernelspec": {
   "display_name": "Python 3",
   "language": "python",
   "name": "python3"
  },
  "language_info": {
   "codemirror_mode": {
    "name": "ipython",
    "version": 3
   },
   "file_extension": ".py",
   "mimetype": "text/x-python",
   "name": "python",
   "nbconvert_exporter": "python",
   "pygments_lexer": "ipython3",
   "version": "3.8.10"
  }
 },
 "nbformat": 4,
 "nbformat_minor": 4
}
